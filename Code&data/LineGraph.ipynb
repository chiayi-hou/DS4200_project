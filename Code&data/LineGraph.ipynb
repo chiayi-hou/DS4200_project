{
 "cells": [
  {
   "cell_type": "code",
   "execution_count": 1,
   "id": "f6bf30b1",
   "metadata": {},
   "outputs": [
    {
     "name": "stdout",
     "output_type": "stream",
     "text": [
      "Intel MKL WARNING: Support of Intel(R) Streaming SIMD Extensions 4.2 (Intel(R) SSE4.2) enabled only processors has been deprecated. Intel oneAPI Math Kernel Library 2025.0 will require Intel(R) Advanced Vector Extensions (Intel(R) AVX) instructions.\n",
      "Intel MKL WARNING: Support of Intel(R) Streaming SIMD Extensions 4.2 (Intel(R) SSE4.2) enabled only processors has been deprecated. Intel oneAPI Math Kernel Library 2025.0 will require Intel(R) Advanced Vector Extensions (Intel(R) AVX) instructions.\n"
     ]
    }
   ],
   "source": [
    "import pandas as pd\n",
    "import plotly.express as px\n",
    "\n",
    "# Load the dataset\n",
    "data = pd.read_csv('vgsales.csv') \n",
    "\n",
    "sales_by_year_region = data.groupby('Year').agg({\n",
    "    'NA_Sales': 'sum',\n",
    "    'EU_Sales': 'sum',\n",
    "    'JP_Sales': 'sum',\n",
    "    'Other_Sales': 'sum'\n",
    "}).reset_index()\n",
    "\n",
    "melted_sales_data = sales_by_year_region.melt(id_vars='Year', value_vars=['NA_Sales', 'EU_Sales', 'JP_Sales', 'Other_Sales'],\n",
    "                                              var_name='Region', value_name='Sales')\n",
    "\n",
    "# Rename regions for clarity\n",
    "melted_sales_data['Region'] = melted_sales_data['Region'].replace({\n",
    "    'NA_Sales': 'North America',\n",
    "    'EU_Sales': 'Europe',\n",
    "    'JP_Sales': 'Japan',\n",
    "    'Other_Sales': 'Rest of the World'\n",
    "})\n",
    "\n",
    "# Custom colors for each region\n",
    "color_map = {\n",
    "    'North America': '#1a9850',\n",
    "    'Europe': '#4575b4',\n",
    "    'Japan': '#d73027',\n",
    "    'Rest of the World': '#806b71'\n",
    "}\n",
    "\n",
    "# Create an interactive line plot\n",
    "fig = px.line(melted_sales_data, x='Year', y='Sales', color='Region',\n",
    "              title='Total Video Game Sales by Region Over Time',\n",
    "              labels={'Sales': 'Total Sales (in millions)'},\n",
    "              color_discrete_map=color_map)  # Apply custom colors\n",
    "\n",
    "fig.update_layout(\n",
    "    xaxis_title='Year',\n",
    "    yaxis_title='Total Sales (in millions)',\n",
    "    legend_title='Region',\n",
    "    hovermode='x unified'\n",
    ")\n",
    "\n",
    "# Save the plot as an HTML\n",
    "fig.write_html('LineGraph.html')\n"
   ]
  },
  {
   "cell_type": "code",
   "execution_count": null,
   "id": "62e662d9",
   "metadata": {},
   "outputs": [],
   "source": []
  }
 ],
 "metadata": {
  "kernelspec": {
   "display_name": "Python 3 (ipykernel)",
   "language": "python",
   "name": "python3"
  },
  "language_info": {
   "codemirror_mode": {
    "name": "ipython",
    "version": 3
   },
   "file_extension": ".py",
   "mimetype": "text/x-python",
   "name": "python",
   "nbconvert_exporter": "python",
   "pygments_lexer": "ipython3",
   "version": "3.9.18"
  }
 },
 "nbformat": 4,
 "nbformat_minor": 5
}
